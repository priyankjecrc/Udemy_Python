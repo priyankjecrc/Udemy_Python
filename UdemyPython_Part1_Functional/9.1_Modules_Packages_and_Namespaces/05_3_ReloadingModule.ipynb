{
 "cells": [
  {
   "cell_type": "code",
   "execution_count": 1,
   "metadata": {
    "collapsed": true
   },
   "outputs": [],
   "source": [
    "import TestModule5 as tm5\n",
    "import sys"
   ]
  },
  {
   "cell_type": "code",
   "execution_count": 2,
   "outputs": [
    {
     "name": "stdout",
     "output_type": "stream",
     "text": [
      "Func firstName is in TestModule5\n"
     ]
    }
   ],
   "source": [
    "tm5.firstName()  ## Func firstName is in TestModule5"
   ],
   "metadata": {
    "collapsed": false,
    "pycharm": {
     "name": "#%%\n"
    }
   }
  },
  {
   "cell_type": "code",
   "execution_count": 3,
   "outputs": [],
   "source": [
    "del sys.modules['TestModule5']"
   ],
   "metadata": {
    "collapsed": false,
    "pycharm": {
     "name": "#%%\n"
    }
   }
  },
  {
   "cell_type": "code",
   "execution_count": 4,
   "outputs": [
    {
     "data": {
      "text/plain": "False"
     },
     "execution_count": 4,
     "metadata": {},
     "output_type": "execute_result"
    }
   ],
   "source": [
    "'TestModule5' in sys.modules ## False"
   ],
   "metadata": {
    "collapsed": false,
    "pycharm": {
     "name": "#%%\n"
    }
   }
  },
  {
   "cell_type": "code",
   "execution_count": 5,
   "outputs": [],
   "source": [
    "## Adding Function secondName\n",
    "\n",
    "## As TestModule5 has been deleted from sys.modules, therefore following way will create a\n",
    "## new object of TestModule5 with different memmory location and add it to sys.modules\n",
    "\n",
    "import TestModule5"
   ],
   "metadata": {
    "collapsed": false,
    "pycharm": {
     "name": "#%%\n"
    }
   }
  },
  {
   "cell_type": "code",
   "execution_count": 7,
   "outputs": [
    {
     "name": "stdout",
     "output_type": "stream",
     "text": [
      "Func secondName is in TestModule5\n"
     ]
    }
   ],
   "source": [
    "TestModule5.secondName() ##  No Error...Func secondName is in TestModule5\n",
    "                 ## Obviously because a NEW OBJECT of TestModule5 is created\n",
    "                 ## which has been recently added to sys.modules"
   ],
   "metadata": {
    "collapsed": false,
    "pycharm": {
     "name": "#%%\n"
    }
   }
  },
  {
   "cell_type": "code",
   "execution_count": 8,
   "outputs": [
    {
     "ename": "AttributeError",
     "evalue": "module 'TestModule5' has no attribute 'secondName'",
     "output_type": "error",
     "traceback": [
      "\u001B[1;31m---------------------------------------------------------------------------\u001B[0m",
      "\u001B[1;31mAttributeError\u001B[0m                            Traceback (most recent call last)",
      "\u001B[1;32m~\\AppData\\Local\\Temp\\ipykernel_22112\\420133134.py\u001B[0m in \u001B[0;36m<module>\u001B[1;34m\u001B[0m\n\u001B[1;32m----> 1\u001B[1;33m \u001B[0mtm5\u001B[0m\u001B[1;33m.\u001B[0m\u001B[0msecondName\u001B[0m\u001B[1;33m(\u001B[0m\u001B[1;33m)\u001B[0m \u001B[1;31m##  Error... module 'TestModule5' has no attribute 'secondName'\u001B[0m\u001B[1;33m\u001B[0m\u001B[1;33m\u001B[0m\u001B[0m\n\u001B[0m\u001B[0;32m      2\u001B[0m                  \u001B[1;31m## because tm5 is still pointing to old object of TestModule5\u001B[0m\u001B[1;33m\u001B[0m\u001B[1;33m\u001B[0m\u001B[1;33m\u001B[0m\u001B[0m\n",
      "\u001B[1;31mAttributeError\u001B[0m: module 'TestModule5' has no attribute 'secondName'"
     ]
    }
   ],
   "source": [
    "tm5.secondName() ##  Error... module 'TestModule5' has no attribute 'secondName'\n",
    "                 ## because tm5 is still pointing to old object of TestModule5"
   ],
   "metadata": {
    "collapsed": false,
    "pycharm": {
     "name": "#%%\n"
    }
   }
  },
  {
   "cell_type": "code",
   "execution_count": 9,
   "outputs": [
    {
     "name": "stdout",
     "output_type": "stream",
     "text": [
      "Func firstName is in TestModule5\n"
     ]
    }
   ],
   "source": [
    "tm5.firstName() ## Only this will work as tm5 still pointing to old object"
   ],
   "metadata": {
    "collapsed": false,
    "pycharm": {
     "name": "#%%\n"
    }
   }
  },
  {
   "cell_type": "code",
   "execution_count": 16,
   "outputs": [
    {
     "data": {
      "text/plain": "<module 'TestModule5' from 'C:\\\\Users\\\\japr01\\\\PycharmProjects\\\\UdemyPython_Part1_Functional\\\\9. Modules, Packages and Namespaces\\\\TestModule5.py'>"
     },
     "execution_count": 16,
     "metadata": {},
     "output_type": "execute_result"
    }
   ],
   "source": [
    "## Can we do something so that after making changes in module, while reloading we still have\n",
    "## old object, although mutated but still old.\n",
    "\n",
    "## This can be achieved by using importlib"
   ],
   "metadata": {
    "collapsed": false,
    "pycharm": {
     "name": "#%%\n"
    }
   }
  },
  {
   "cell_type": "code",
   "execution_count": null,
   "outputs": [],
   "source": [
    "## Start Notebook again"
   ],
   "metadata": {
    "collapsed": false,
    "pycharm": {
     "name": "#%%\n"
    }
   }
  },
  {
   "cell_type": "code",
   "execution_count": 1,
   "outputs": [],
   "source": [
    "import TestModule6 as tm6  ## TestModule6 is new module\n",
    "import sys"
   ],
   "metadata": {
    "collapsed": false,
    "pycharm": {
     "name": "#%%\n"
    }
   }
  },
  {
   "cell_type": "code",
   "execution_count": 2,
   "outputs": [
    {
     "name": "stdout",
     "output_type": "stream",
     "text": [
      "Func firstName is in TestModule6\n"
     ]
    }
   ],
   "source": [
    "tm6.firstName() ## Func firstName is in TestModule6"
   ],
   "metadata": {
    "collapsed": false,
    "pycharm": {
     "name": "#%%\n"
    }
   }
  },
  {
   "cell_type": "code",
   "execution_count": 6,
   "outputs": [
    {
     "data": {
      "text/plain": "<module 'TestModule6' from 'C:\\\\Users\\\\japr01\\\\PycharmProjects\\\\UdemyPython_Part1_Functional\\\\9. Modules, Packages and Namespaces\\\\TestModule6.py'>"
     },
     "execution_count": 6,
     "metadata": {},
     "output_type": "execute_result"
    }
   ],
   "source": [
    "## Now adding function secondName() and reloading module using importlib\n",
    "import TestModule6   ## If we dont add this than reload below wil show error...name 'TestModule6' is not defined\n",
    "import importlib\n",
    "importlib.reload(TestModule6)"
   ],
   "metadata": {
    "collapsed": false,
    "pycharm": {
     "name": "#%%\n"
    }
   }
  },
  {
   "cell_type": "code",
   "execution_count": 7,
   "outputs": [
    {
     "name": "stdout",
     "output_type": "stream",
     "text": [
      "Func secondName is in TestModule6\n"
     ]
    }
   ],
   "source": [
    "TestModule6.secondName() ## Func secondName is in TestModule6"
   ],
   "metadata": {
    "collapsed": false,
    "pycharm": {
     "name": "#%%\n"
    }
   }
  },
  {
   "cell_type": "code",
   "execution_count": 8,
   "outputs": [
    {
     "name": "stdout",
     "output_type": "stream",
     "text": [
      "Func secondName is in TestModule6\n"
     ]
    }
   ],
   "source": [
    "tm6.secondName() ## Func secondName is in TestModule6\n",
    "                 ## WOW... What happened here ??\n",
    "                 ## We used importlib for reloading... Because of this new object of TestModule6\n",
    "                 ## is not loaded in sys.modules and the old object which was present in sys.modules\n",
    "                 ## underwent mutation\n",
    "\n",
    "## Important to note that, we are talking about the entire module. If we talk about a function defined\n",
    "## in a module, than the above said thing might not hold true"
   ],
   "metadata": {
    "collapsed": false,
    "pycharm": {
     "name": "#%%\n"
    }
   }
  },
  {
   "cell_type": "code",
   "execution_count": null,
   "outputs": [],
   "source": [],
   "metadata": {
    "collapsed": false,
    "pycharm": {
     "name": "#%%\n"
    }
   }
  }
 ],
 "metadata": {
  "kernelspec": {
   "display_name": "Python 3",
   "language": "python",
   "name": "python3"
  },
  "language_info": {
   "codemirror_mode": {
    "name": "ipython",
    "version": 2
   },
   "file_extension": ".py",
   "mimetype": "text/x-python",
   "name": "python",
   "nbconvert_exporter": "python",
   "pygments_lexer": "ipython2",
   "version": "2.7.6"
  }
 },
 "nbformat": 4,
 "nbformat_minor": 0
}