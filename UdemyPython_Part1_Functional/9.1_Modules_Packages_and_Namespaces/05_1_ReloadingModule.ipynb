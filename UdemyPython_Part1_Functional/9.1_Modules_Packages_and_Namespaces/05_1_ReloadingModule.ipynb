{
 "cells": [
  {
   "cell_type": "code",
   "execution_count": 1,
   "metadata": {
    "collapsed": true
   },
   "outputs": [],
   "source": [
    "## Discussing very imp case... Files involved are 05_1_ReloadingModule and 05_2_ReloadingModule\n",
    "\n",
    "import TestModule3\n",
    "import sys"
   ]
  },
  {
   "cell_type": "code",
   "execution_count": 2,
   "outputs": [
    {
     "name": "stdout",
     "output_type": "stream",
     "text": [
      " Func printName is in TestModule\n"
     ]
    }
   ],
   "source": [
    "TestModule3.printName() ##  FFunc printName is in TestModule....working as expected"
   ],
   "metadata": {
    "collapsed": false,
    "pycharm": {
     "name": "#%%\n"
    }
   }
  },
  {
   "cell_type": "code",
   "execution_count": 3,
   "outputs": [
    {
     "name": "stdout",
     "output_type": "stream",
     "text": [
      "3061417113224\n"
     ]
    }
   ],
   "source": [
    "print(id(sys.modules['TestModule3'])) ## 3061417113224... different from 05_2_ReloadingModule"
   ],
   "metadata": {
    "collapsed": false,
    "pycharm": {
     "name": "#%%\n"
    }
   }
  },
  {
   "cell_type": "code",
   "execution_count": 4,
   "outputs": [
    {
     "name": "stdout",
     "output_type": "stream",
     "text": [
      "3061417113224\n"
     ]
    }
   ],
   "source": [
    "print(id(globals()['TestModule3'])) ## 3061417113224... same as above"
   ],
   "metadata": {
    "collapsed": false,
    "pycharm": {
     "name": "#%%\n"
    }
   }
  },
  {
   "cell_type": "code",
   "execution_count": null,
   "outputs": [],
   "source": [
    "## As we have different object of same module TestModule3 in 05_1_ReloadingModule and 05_2_ReloadingModule\n",
    "## therefore messing with sys.modules on 05_1_ReloadingModule will not impact sys.modules of 05_2_ReloadingModule"
   ],
   "metadata": {
    "collapsed": false,
    "pycharm": {
     "name": "#%%\n"
    }
   }
  },
  {
   "cell_type": "code",
   "execution_count": 5,
   "outputs": [
    {
     "name": "stdout",
     "output_type": "stream",
     "text": [
      "True\n",
      "False\n"
     ]
    }
   ],
   "source": [
    "print('TestModule3' in sys.modules) ## True\n",
    "del sys.modules['TestModule3']\n",
    "print('TestModule3' in sys.modules) ## False\n",
    "\n",
    "## We have deleted TestModule3 from sys.modules of 05_1_ReloadingModule but\n",
    "## in sys.modules of 05_2_ReloadingModule, TestModule3 will still be there"
   ],
   "metadata": {
    "collapsed": false,
    "pycharm": {
     "name": "#%%\n"
    }
   }
  },
  {
   "cell_type": "code",
   "execution_count": null,
   "outputs": [],
   "source": [],
   "metadata": {
    "collapsed": false,
    "pycharm": {
     "name": "#%%\n"
    }
   }
  }
 ],
 "metadata": {
  "kernelspec": {
   "display_name": "Python 3",
   "language": "python",
   "name": "python3"
  },
  "language_info": {
   "codemirror_mode": {
    "name": "ipython",
    "version": 2
   },
   "file_extension": ".py",
   "mimetype": "text/x-python",
   "name": "python",
   "nbconvert_exporter": "python",
   "pygments_lexer": "ipython2",
   "version": "2.7.6"
  }
 },
 "nbformat": 4,
 "nbformat_minor": 0
}